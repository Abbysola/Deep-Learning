{
 "cells": [
  {
   "cell_type": "markdown",
   "id": "5069850e",
   "metadata": {},
   "source": [
    "## Generating Data"
   ]
  },
  {
   "cell_type": "code",
   "execution_count": 1,
   "id": "ad981fa2",
   "metadata": {},
   "outputs": [],
   "source": [
    "import numpy as np"
   ]
  },
  {
   "cell_type": "code",
   "execution_count": 2,
   "id": "51d28df0",
   "metadata": {},
   "outputs": [
    {
     "data": {
      "text/plain": [
       "array([[0., 0., 0.],\n",
       "       [0., 0., 0.]])"
      ]
     },
     "execution_count": 2,
     "metadata": {},
     "output_type": "execute_result"
    }
   ],
   "source": [
    "np.zeros((2,3))"
   ]
  },
  {
   "cell_type": "code",
   "execution_count": 3,
   "id": "0051a799",
   "metadata": {},
   "outputs": [
    {
     "data": {
      "text/plain": [
       "array([[1., 1., 1.],\n",
       "       [1., 1., 1.]])"
      ]
     },
     "execution_count": 3,
     "metadata": {},
     "output_type": "execute_result"
    }
   ],
   "source": [
    "np.ones((2,3))"
   ]
  },
  {
   "cell_type": "code",
   "execution_count": 4,
   "id": "4c830917",
   "metadata": {},
   "outputs": [
    {
     "data": {
      "text/plain": [
       "array([[10., 10., 10.],\n",
       "       [10., 10., 10.]])"
      ]
     },
     "execution_count": 4,
     "metadata": {},
     "output_type": "execute_result"
    }
   ],
   "source": [
    "10 * np.ones((2,3))"
   ]
  },
  {
   "cell_type": "markdown",
   "id": "3e8855d0",
   "metadata": {},
   "source": [
    "Creating an identity matrix"
   ]
  },
  {
   "cell_type": "code",
   "execution_count": 5,
   "id": "e5a62de6",
   "metadata": {},
   "outputs": [
    {
     "data": {
      "text/plain": [
       "array([[1., 0., 0.],\n",
       "       [0., 1., 0.],\n",
       "       [0., 0., 1.]])"
      ]
     },
     "execution_count": 5,
     "metadata": {},
     "output_type": "execute_result"
    }
   ],
   "source": [
    "np.eye(3)"
   ]
  },
  {
   "cell_type": "markdown",
   "id": "94e0db9e",
   "metadata": {},
   "source": [
    "Generating random numbers"
   ]
  },
  {
   "cell_type": "code",
   "execution_count": 6,
   "id": "35b0ef59",
   "metadata": {},
   "outputs": [
    {
     "data": {
      "text/plain": [
       "0.8568936863807969"
      ]
     },
     "execution_count": 6,
     "metadata": {},
     "output_type": "execute_result"
    }
   ],
   "source": [
    "np.random.random()"
   ]
  },
  {
   "cell_type": "markdown",
   "id": "398fbd98",
   "metadata": {},
   "source": [
    "Generating a random matrix with size 2,3"
   ]
  },
  {
   "cell_type": "code",
   "execution_count": 10,
   "id": "674db3bc",
   "metadata": {},
   "outputs": [
    {
     "data": {
      "text/plain": [
       "array([[0.78150128, 0.2826994 , 0.73975247],\n",
       "       [0.80121204, 0.29095456, 0.45674825]])"
      ]
     },
     "execution_count": 10,
     "metadata": {},
     "output_type": "execute_result"
    }
   ],
   "source": [
    "np.random.random((2,3))"
   ]
  },
  {
   "cell_type": "code",
   "execution_count": 8,
   "id": "cfcbdcca",
   "metadata": {},
   "outputs": [
    {
     "data": {
      "text/plain": [
       "array([[-0.08655322, -0.95905597,  1.96172437],\n",
       "       [-1.60697744, -0.41215236,  1.78510525]])"
      ]
     },
     "execution_count": 8,
     "metadata": {},
     "output_type": "execute_result"
    }
   ],
   "source": [
    "np.random.randn(2,3)"
   ]
  },
  {
   "cell_type": "code",
   "execution_count": 11,
   "id": "abbf8834",
   "metadata": {},
   "outputs": [],
   "source": [
    "R = np.random.randn(10000)"
   ]
  },
  {
   "cell_type": "code",
   "execution_count": 12,
   "id": "2045d044",
   "metadata": {},
   "outputs": [
    {
     "data": {
      "text/plain": [
       "array([2.2140403 , 0.38186676, 1.4190944 , ..., 0.47257351, 0.97462881,\n",
       "       0.52361471])"
      ]
     },
     "execution_count": 12,
     "metadata": {},
     "output_type": "execute_result"
    }
   ],
   "source": [
    "R"
   ]
  },
  {
   "cell_type": "code",
   "execution_count": 13,
   "id": "3f6a6e2a",
   "metadata": {},
   "outputs": [
    {
     "data": {
      "text/plain": [
       "-0.0056313749358091044"
      ]
     },
     "execution_count": 13,
     "metadata": {},
     "output_type": "execute_result"
    }
   ],
   "source": [
    "R.mean()"
   ]
  },
  {
   "cell_type": "code",
   "execution_count": 14,
   "id": "b5993ad3",
   "metadata": {},
   "outputs": [
    {
     "data": {
      "text/plain": [
       "-0.0056313749358091044"
      ]
     },
     "execution_count": 14,
     "metadata": {},
     "output_type": "execute_result"
    }
   ],
   "source": [
    "np.mean(R)"
   ]
  },
  {
   "cell_type": "code",
   "execution_count": 15,
   "id": "130c998a",
   "metadata": {},
   "outputs": [
    {
     "data": {
      "text/plain": [
       "1.0227199816082317"
      ]
     },
     "execution_count": 15,
     "metadata": {},
     "output_type": "execute_result"
    }
   ],
   "source": [
    "R.var()"
   ]
  },
  {
   "cell_type": "code",
   "execution_count": 16,
   "id": "cc2433d4",
   "metadata": {},
   "outputs": [
    {
     "data": {
      "text/plain": [
       "1.011296188862705"
      ]
     },
     "execution_count": 16,
     "metadata": {},
     "output_type": "execute_result"
    }
   ],
   "source": [
    "R.std()"
   ]
  },
  {
   "cell_type": "code",
   "execution_count": 17,
   "id": "b8ec2cf0",
   "metadata": {},
   "outputs": [],
   "source": [
    "R = np.random.randn(10000, 3)"
   ]
  },
  {
   "cell_type": "markdown",
   "id": "8098c54e",
   "metadata": {},
   "source": [
    "Mean of each column"
   ]
  },
  {
   "cell_type": "code",
   "execution_count": 19,
   "id": "24bd56f0",
   "metadata": {},
   "outputs": [
    {
     "data": {
      "text/plain": [
       "array([-0.00818425, -0.00806607,  0.01461231])"
      ]
     },
     "execution_count": 19,
     "metadata": {},
     "output_type": "execute_result"
    }
   ],
   "source": [
    "R.mean(axis=0)"
   ]
  },
  {
   "cell_type": "markdown",
   "id": "21c47960",
   "metadata": {},
   "source": [
    "Mean of each row"
   ]
  },
  {
   "cell_type": "code",
   "execution_count": 20,
   "id": "ceb94339",
   "metadata": {},
   "outputs": [
    {
     "data": {
      "text/plain": [
       "array([ 0.43866802,  0.03961058,  0.03290165, ...,  0.39272455,\n",
       "       -1.02836775,  0.42267309])"
      ]
     },
     "execution_count": 20,
     "metadata": {},
     "output_type": "execute_result"
    }
   ],
   "source": [
    "R.mean(axis=1)"
   ]
  },
  {
   "cell_type": "code",
   "execution_count": 23,
   "id": "e61b59e5",
   "metadata": {},
   "outputs": [
    {
     "data": {
      "text/plain": [
       "(10000,)"
      ]
     },
     "execution_count": 23,
     "metadata": {},
     "output_type": "execute_result"
    }
   ],
   "source": [
    "R.mean(axis=1).shape"
   ]
  },
  {
   "cell_type": "markdown",
   "id": "84b4abd3",
   "metadata": {},
   "source": [
    "Note: We have 10000 observations (rows) and 3 measurements per observations (columns). Each row is a vector observation. In vectors, tha analog of the variance is the co-variance."
   ]
  },
  {
   "cell_type": "code",
   "execution_count": 25,
   "id": "d6cf5dd6",
   "metadata": {},
   "outputs": [
    {
     "data": {
      "text/plain": [
       "array([[ 1.76984661,  1.26393198,  0.62379814, ..., -0.39276889,\n",
       "         0.04103267,  1.97238393],\n",
       "       [ 1.26393198,  1.09423511,  0.15746716, ..., -0.13570314,\n",
       "        -0.38038624,  1.40161507],\n",
       "       [ 0.62379814,  0.15746716,  0.65281373, ..., -0.35608783,\n",
       "         0.63031285,  0.70564429],\n",
       "       ...,\n",
       "       [-0.39276889, -0.13570314, -0.35608783, ...,  0.1965828 ,\n",
       "        -0.31870652, -0.44297498],\n",
       "       [ 0.04103267, -0.38038624,  0.63031285, ..., -0.31870652,\n",
       "         0.8769679 ,  0.06060729],\n",
       "       [ 1.97238393,  1.40161507,  0.70564429, ..., -0.44297498,\n",
       "         0.06060729,  2.1983519 ]])"
      ]
     },
     "execution_count": 25,
     "metadata": {},
     "output_type": "execute_result"
    }
   ],
   "source": [
    "np.cov(R)"
   ]
  },
  {
   "cell_type": "code",
   "execution_count": 26,
   "id": "4cf1e80f",
   "metadata": {},
   "outputs": [
    {
     "data": {
      "text/plain": [
       "(10000, 10000)"
      ]
     },
     "execution_count": 26,
     "metadata": {},
     "output_type": "execute_result"
    }
   ],
   "source": [
    "np.cov(R).shape"
   ]
  },
  {
   "cell_type": "markdown",
   "id": "d36ed7ea",
   "metadata": {},
   "source": [
    "Note: The cov function by default treats each column as a vector observation. However, for the rest of the numpy stack like sci-kit learn, tensor flow or pytorch, each row is the sample observation."
   ]
  },
  {
   "cell_type": "markdown",
   "id": "61dbcd36",
   "metadata": {},
   "source": [
    "Transposing the cov"
   ]
  },
  {
   "cell_type": "code",
   "execution_count": 28,
   "id": "ea794756",
   "metadata": {},
   "outputs": [
    {
     "data": {
      "text/plain": [
       "array([[ 1.01442662,  0.00159723, -0.00321485],\n",
       "       [ 0.00159723,  0.98168723, -0.01032132],\n",
       "       [-0.00321485, -0.01032132,  1.00903704]])"
      ]
     },
     "execution_count": 28,
     "metadata": {},
     "output_type": "execute_result"
    }
   ],
   "source": [
    "np.cov(R.T)"
   ]
  },
  {
   "cell_type": "code",
   "execution_count": 29,
   "id": "ba3ff17d",
   "metadata": {},
   "outputs": [
    {
     "data": {
      "text/plain": [
       "array([[-0.18536952, -0.46495274,  1.96632632],\n",
       "       [-0.86789891, -0.19696429,  1.18369496],\n",
       "       [ 0.50721947, -0.90001633,  0.49150181],\n",
       "       ...,\n",
       "       [ 0.18219137,  0.90214412,  0.09383815],\n",
       "       [-0.05527781, -1.92331189, -1.10651357],\n",
       "       [-0.25600448, -0.59920061,  2.12322438]])"
      ]
     },
     "execution_count": 29,
     "metadata": {},
     "output_type": "execute_result"
    }
   ],
   "source": [
    "R"
   ]
  },
  {
   "cell_type": "code",
   "execution_count": 30,
   "id": "05c1a816",
   "metadata": {},
   "outputs": [
    {
     "data": {
      "text/plain": [
       "array([[ 1.01442662,  0.00159723, -0.00321485],\n",
       "       [ 0.00159723,  0.98168723, -0.01032132],\n",
       "       [-0.00321485, -0.01032132,  1.00903704]])"
      ]
     },
     "execution_count": 30,
     "metadata": {},
     "output_type": "execute_result"
    }
   ],
   "source": [
    "np.cov(R, rowvar=False)"
   ]
  },
  {
   "cell_type": "code",
   "execution_count": 31,
   "id": "22bb4bf5",
   "metadata": {},
   "outputs": [
    {
     "data": {
      "text/plain": [
       "array([[1, 7, 9],\n",
       "       [8, 2, 4],\n",
       "       [0, 6, 3]])"
      ]
     },
     "execution_count": 31,
     "metadata": {},
     "output_type": "execute_result"
    }
   ],
   "source": [
    "np.random.randint(0,10, size=(3,3))"
   ]
  },
  {
   "cell_type": "code",
   "execution_count": 32,
   "id": "d2711c69",
   "metadata": {},
   "outputs": [
    {
     "data": {
      "text/plain": [
       "array([[6, 0, 9],\n",
       "       [6, 1, 6],\n",
       "       [6, 6, 9]])"
      ]
     },
     "execution_count": 32,
     "metadata": {},
     "output_type": "execute_result"
    }
   ],
   "source": [
    "np.random.choice(10, size=(3,3))"
   ]
  },
  {
   "cell_type": "code",
   "execution_count": null,
   "id": "0abd1d68",
   "metadata": {},
   "outputs": [],
   "source": []
  }
 ],
 "metadata": {
  "kernelspec": {
   "display_name": "Python 3 (ipykernel)",
   "language": "python",
   "name": "python3"
  },
  "language_info": {
   "codemirror_mode": {
    "name": "ipython",
    "version": 3
   },
   "file_extension": ".py",
   "mimetype": "text/x-python",
   "name": "python",
   "nbconvert_exporter": "python",
   "pygments_lexer": "ipython3",
   "version": "3.11.7"
  }
 },
 "nbformat": 4,
 "nbformat_minor": 5
}
