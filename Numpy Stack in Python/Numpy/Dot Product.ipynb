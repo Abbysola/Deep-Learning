{
 "cells": [
  {
   "cell_type": "markdown",
   "id": "246d1621",
   "metadata": {},
   "source": [
    "## Dot or Inner Product in Numpy"
   ]
  },
  {
   "cell_type": "code",
   "execution_count": 3,
   "id": "67a7f80e",
   "metadata": {},
   "outputs": [],
   "source": [
    "import numpy as np"
   ]
  },
  {
   "cell_type": "code",
   "execution_count": 4,
   "id": "155872d1",
   "metadata": {},
   "outputs": [],
   "source": [
    "a = np.array([1,2])\n",
    "b = np.array([3,4])"
   ]
  },
  {
   "cell_type": "code",
   "execution_count": 8,
   "id": "84d70a78",
   "metadata": {},
   "outputs": [
    {
     "data": {
      "text/plain": [
       "11"
      ]
     },
     "execution_count": 8,
     "metadata": {},
     "output_type": "execute_result"
    }
   ],
   "source": [
    "dot = 0\n",
    "for e, f in zip(a, b):\n",
    "   dot += e * f\n",
    "dot    "
   ]
  },
  {
   "cell_type": "markdown",
   "id": "3c8d3f6a",
   "metadata": {},
   "source": [
    "#### Note: The zip() function is an iterator of tuples where it combines the first item in each of the tuples with one another, secon, up until the last."
   ]
  },
  {
   "cell_type": "code",
   "execution_count": 16,
   "id": "c220af49",
   "metadata": {},
   "outputs": [
    {
     "data": {
      "text/plain": [
       "11"
      ]
     },
     "execution_count": 16,
     "metadata": {},
     "output_type": "execute_result"
    }
   ],
   "source": [
    "dot = 0\n",
    "for i in range(len(a)):\n",
    "   dot += a[i] * b[i]\n",
    "dot"
   ]
  },
  {
   "cell_type": "code",
   "execution_count": 17,
   "id": "ab66033e",
   "metadata": {},
   "outputs": [
    {
     "data": {
      "text/plain": [
       "array([3, 8])"
      ]
     },
     "execution_count": 17,
     "metadata": {},
     "output_type": "execute_result"
    }
   ],
   "source": [
    "a * b"
   ]
  },
  {
   "cell_type": "markdown",
   "id": "527aeff2",
   "metadata": {},
   "source": [
    "#### Note: This is element-wise multiplication"
   ]
  },
  {
   "cell_type": "code",
   "execution_count": 18,
   "id": "3196b12f",
   "metadata": {},
   "outputs": [
    {
     "data": {
      "text/plain": [
       "11"
      ]
     },
     "execution_count": 18,
     "metadata": {},
     "output_type": "execute_result"
    }
   ],
   "source": [
    "np.sum(a * b)"
   ]
  },
  {
   "cell_type": "markdown",
   "id": "be98c31d",
   "metadata": {},
   "source": [
    "#### In numpy, lot of these functions are instance methods so they can be called on the numpy array object directly"
   ]
  },
  {
   "cell_type": "code",
   "execution_count": 19,
   "id": "78133fc0",
   "metadata": {},
   "outputs": [
    {
     "data": {
      "text/plain": [
       "11"
      ]
     },
     "execution_count": 19,
     "metadata": {},
     "output_type": "execute_result"
    }
   ],
   "source": [
    "(a * b).sum()"
   ]
  },
  {
   "cell_type": "code",
   "execution_count": 20,
   "id": "c9e7fa4c",
   "metadata": {},
   "outputs": [
    {
     "data": {
      "text/plain": [
       "11"
      ]
     },
     "execution_count": 20,
     "metadata": {},
     "output_type": "execute_result"
    }
   ],
   "source": [
    "np.dot(a, b)"
   ]
  },
  {
   "cell_type": "markdown",
   "id": "c66a8e81",
   "metadata": {},
   "source": [
    "#### The dot function is also an instance method"
   ]
  },
  {
   "cell_type": "code",
   "execution_count": 21,
   "id": "06125192",
   "metadata": {},
   "outputs": [
    {
     "data": {
      "text/plain": [
       "11"
      ]
     },
     "execution_count": 21,
     "metadata": {},
     "output_type": "execute_result"
    }
   ],
   "source": [
    "a.dot(b)"
   ]
  },
  {
   "cell_type": "code",
   "execution_count": 22,
   "id": "a616fa8a",
   "metadata": {},
   "outputs": [
    {
     "data": {
      "text/plain": [
       "11"
      ]
     },
     "execution_count": 22,
     "metadata": {},
     "output_type": "execute_result"
    }
   ],
   "source": [
    "a @ b"
   ]
  },
  {
   "cell_type": "markdown",
   "id": "7869600c",
   "metadata": {},
   "source": [
    "### Linear Algebra"
   ]
  },
  {
   "cell_type": "markdown",
   "id": "2ec1ce89",
   "metadata": {},
   "source": [
    "Magnitude of a vector = Square root of the sum of all the elements squared"
   ]
  },
  {
   "cell_type": "markdown",
   "id": "5bb5b65f",
   "metadata": {},
   "source": [
    "Dot Product of A and B = Mag(A) * Mag(B) * cos(angle btw them)"
   ]
  },
  {
   "cell_type": "markdown",
   "id": "b63dd094",
   "metadata": {},
   "source": [
    "#### Mag(A) = sqrt(sum(a**2)) = sqrt((a * a).sum()) = sqrt(np.dot(a, a)) = sqrt(a.dot(a)) = sqrt(a @ a)"
   ]
  },
  {
   "cell_type": "code",
   "execution_count": 30,
   "id": "f5872a7b",
   "metadata": {},
   "outputs": [],
   "source": [
    "amag = np.sqrt(a @ a)"
   ]
  },
  {
   "cell_type": "code",
   "execution_count": 31,
   "id": "1ab172ff",
   "metadata": {},
   "outputs": [
    {
     "data": {
      "text/plain": [
       "2.23606797749979"
      ]
     },
     "execution_count": 31,
     "metadata": {},
     "output_type": "execute_result"
    }
   ],
   "source": [
    "amag"
   ]
  },
  {
   "cell_type": "markdown",
   "id": "754b476e",
   "metadata": {},
   "source": [
    "## np.linalg.norm(a)"
   ]
  },
  {
   "cell_type": "code",
   "execution_count": 32,
   "id": "0e52e6f4",
   "metadata": {},
   "outputs": [
    {
     "data": {
      "text/plain": [
       "2.23606797749979"
      ]
     },
     "execution_count": 32,
     "metadata": {},
     "output_type": "execute_result"
    }
   ],
   "source": [
    "np.linalg.norm(a)"
   ]
  },
  {
   "cell_type": "markdown",
   "id": "d8a10a2d",
   "metadata": {},
   "source": [
    "#### cos(angle) = Dot product of A and B / (MagA * MagB)"
   ]
  },
  {
   "cell_type": "code",
   "execution_count": 39,
   "id": "a74e0631",
   "metadata": {},
   "outputs": [],
   "source": [
    "cosangle = a.dot(b) / (np.linalg.norm(a) * np.linalg.norm(b))"
   ]
  },
  {
   "cell_type": "code",
   "execution_count": 40,
   "id": "ce27eddf",
   "metadata": {},
   "outputs": [
    {
     "data": {
      "text/plain": [
       "0.9838699100999074"
      ]
     },
     "execution_count": 40,
     "metadata": {},
     "output_type": "execute_result"
    }
   ],
   "source": [
    "cosangle"
   ]
  },
  {
   "cell_type": "code",
   "execution_count": 44,
   "id": "a3081fcd",
   "metadata": {},
   "outputs": [
    {
     "data": {
      "text/plain": [
       "0.17985349979247847"
      ]
     },
     "execution_count": 44,
     "metadata": {},
     "output_type": "execute_result"
    }
   ],
   "source": [
    "angle = np.arccos(cosangle)\n",
    "angle                  "
   ]
  },
  {
   "cell_type": "code",
   "execution_count": null,
   "id": "67188771",
   "metadata": {},
   "outputs": [],
   "source": []
  }
 ],
 "metadata": {
  "kernelspec": {
   "display_name": "Python 3 (ipykernel)",
   "language": "python",
   "name": "python3"
  },
  "language_info": {
   "codemirror_mode": {
    "name": "ipython",
    "version": 3
   },
   "file_extension": ".py",
   "mimetype": "text/x-python",
   "name": "python",
   "nbconvert_exporter": "python",
   "pygments_lexer": "ipython3",
   "version": "3.11.7"
  }
 },
 "nbformat": 4,
 "nbformat_minor": 5
}
