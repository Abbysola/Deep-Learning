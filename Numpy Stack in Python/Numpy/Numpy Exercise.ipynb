{
 "cells": [
  {
   "cell_type": "markdown",
   "id": "7caab77b",
   "metadata": {},
   "source": [
    "## Exercise"
   ]
  },
  {
   "cell_type": "markdown",
   "id": "3af79fde",
   "metadata": {},
   "source": [
    "#### Checking how faster matrix multiplication is using numpy vs using lists"
   ]
  },
  {
   "cell_type": "code",
   "execution_count": 26,
   "id": "073bf845",
   "metadata": {},
   "outputs": [],
   "source": [
    "from datetime import datetime\n",
    "import numpy as np"
   ]
  },
  {
   "cell_type": "code",
   "execution_count": 44,
   "id": "6a473953",
   "metadata": {},
   "outputs": [],
   "source": [
    "A = np.array([[1,2],[3,4]])\n",
    "B = np.array([[1,2,3],[4,5,6]])\n",
    "T = 10000"
   ]
  },
  {
   "cell_type": "markdown",
   "id": "b47eef6a",
   "metadata": {},
   "source": [
    "Calculating normal matrix multiplication"
   ]
  },
  {
   "cell_type": "code",
   "execution_count": 38,
   "id": "1eff72df",
   "metadata": {},
   "outputs": [],
   "source": [
    "matrix_prod = 0\n",
    "\n",
    "def multiply_matrices(A, B):\n",
    "    # Number of rows in A\n",
    "    rows_A = len(A)\n",
    "    # Number of columns in A (or rows in B)\n",
    "    cols_A = len(A[0])\n",
    "    # Number of columns in B\n",
    "    cols_B = len(B[0])\n",
    "\n",
    "    # Initialize the result matrix with zeros\n",
    "    result = [[0 for _ in range(cols_B)] for _ in range(rows_A)]\n",
    "\n",
    "    # Perform the matrix multiplication\n",
    "    for i in range(rows_A):\n",
    "        for j in range(cols_B):\n",
    "            for k in range(cols_A):\n",
    "                result[i][j] += A[i][k] * B[k][j]\n",
    "    return result               \n"
   ]
  },
  {
   "cell_type": "markdown",
   "id": "d1b78a2c",
   "metadata": {},
   "source": [
    "Checking the result"
   ]
  },
  {
   "cell_type": "code",
   "execution_count": 47,
   "id": "b1e08abe",
   "metadata": {},
   "outputs": [
    {
     "name": "stdout",
     "output_type": "stream",
     "text": [
      "[9, 12, 15]\n",
      "[19, 26, 33]\n"
     ]
    }
   ],
   "source": [
    "# Multiply matrices A and B\n",
    "result = multiply_matrices(A, B)\n",
    "\n",
    "# Print the result\n",
    "for row in result:\n",
    "    print(row) "
   ]
  },
  {
   "cell_type": "markdown",
   "id": "d5bada35",
   "metadata": {},
   "source": [
    "Using dot function"
   ]
  },
  {
   "cell_type": "code",
   "execution_count": 46,
   "id": "be5609f2",
   "metadata": {},
   "outputs": [
    {
     "data": {
      "text/plain": [
       "array([[ 9, 12, 15],\n",
       "       [19, 26, 33]])"
      ]
     },
     "execution_count": 46,
     "metadata": {},
     "output_type": "execute_result"
    }
   ],
   "source": [
    "A.dot(B)"
   ]
  },
  {
   "cell_type": "code",
   "execution_count": 48,
   "id": "5f7f2525",
   "metadata": {},
   "outputs": [],
   "source": [
    "t0 = datetime.now()\n",
    "for t in range(T):\n",
    "    multiply_matrices(A, B)\n",
    "dt1 = datetime.now() - t0"
   ]
  },
  {
   "cell_type": "code",
   "execution_count": 49,
   "id": "6770acba",
   "metadata": {},
   "outputs": [],
   "source": [
    "t0 = datetime.now()\n",
    "for t in range(T):\n",
    "    A.dot(B)\n",
    "dt2 = datetime.now() - t0"
   ]
  },
  {
   "cell_type": "code",
   "execution_count": 53,
   "id": "14e7a533",
   "metadata": {},
   "outputs": [
    {
     "name": "stdout",
     "output_type": "stream",
     "text": [
      "dt1 / dt2: 6.220835863744272\n"
     ]
    }
   ],
   "source": [
    "print(\"dt1 / dt2:\", dt1.total_seconds() / dt2.total_seconds())"
   ]
  },
  {
   "cell_type": "code",
   "execution_count": null,
   "id": "3052dc03",
   "metadata": {},
   "outputs": [],
   "source": []
  }
 ],
 "metadata": {
  "kernelspec": {
   "display_name": "Python 3 (ipykernel)",
   "language": "python",
   "name": "python3"
  },
  "language_info": {
   "codemirror_mode": {
    "name": "ipython",
    "version": 3
   },
   "file_extension": ".py",
   "mimetype": "text/x-python",
   "name": "python",
   "nbconvert_exporter": "python",
   "pygments_lexer": "ipython3",
   "version": "3.11.7"
  }
 },
 "nbformat": 4,
 "nbformat_minor": 5
}
